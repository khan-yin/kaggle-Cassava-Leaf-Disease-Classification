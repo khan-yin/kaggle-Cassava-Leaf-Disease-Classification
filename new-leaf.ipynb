{
 "cells": [
  {
   "cell_type": "code",
   "execution_count": 1,
   "metadata": {
    "_cell_guid": "b1076dfc-b9ad-4769-8c92-a6c4dae69d19",
    "_uuid": "8f2839f25d086af736a60e9eeb907d3b93b6e0e5",
    "execution": {
     "iopub.execute_input": "2021-02-17T04:01:56.531399Z",
     "iopub.status.busy": "2021-02-17T04:01:56.530618Z",
     "iopub.status.idle": "2021-02-17T04:01:56.533734Z",
     "shell.execute_reply": "2021-02-17T04:01:56.533153Z"
    },
    "papermill": {
     "duration": 0.033892,
     "end_time": "2021-02-17T04:01:56.533947",
     "exception": false,
     "start_time": "2021-02-17T04:01:56.500055",
     "status": "completed"
    },
    "tags": []
   },
   "outputs": [],
   "source": [
    "# This Python 3 environment comes with many helpful analytics libraries installed\n",
    "# It is defined by the kaggle/python Docker image: https://github.com/kaggle/docker-python\n",
    "# For example, here's several helpful packages to load\n",
    "\n",
    "import numpy as np # linear algebra\n",
    "import pandas as pd # data processing, CSV file I/O (e.g. pd.read_csv)\n",
    "\n",
    "# Input data files are available in the read-only \"../input/\" directory\n",
    "# For example, running this (by clicking run or pressing Shift+Enter) will list all files under the input directory\n",
    "\n",
    "import os\n",
    "\n",
    "# You can write up to 20GB to the current directory (/kaggle/working/) that gets preserved as output when you create a version using \"Save & Run All\" \n",
    "# You can also write temporary files to /kaggle/temp/, but they won't be saved outside of the current session"
   ]
  },
  {
   "cell_type": "code",
   "execution_count": 2,
   "metadata": {
    "execution": {
     "iopub.execute_input": "2021-02-17T04:01:56.590654Z",
     "iopub.status.busy": "2021-02-17T04:01:56.589849Z",
     "iopub.status.idle": "2021-02-17T04:01:58.399788Z",
     "shell.execute_reply": "2021-02-17T04:01:58.400742Z"
    },
    "papermill": {
     "duration": 1.841094,
     "end_time": "2021-02-17T04:01:58.400985",
     "exception": false,
     "start_time": "2021-02-17T04:01:56.559891",
     "status": "completed"
    },
    "tags": []
   },
   "outputs": [
    {
     "name": "stdout",
     "output_type": "stream",
     "text": [
      "1.7.0\n",
      "True\n"
     ]
    },
    {
     "data": {
      "text/plain": [
       "'Tesla P100-PCIE-16GB'"
      ]
     },
     "execution_count": 2,
     "metadata": {},
     "output_type": "execute_result"
    }
   ],
   "source": [
    "import torch\n",
    "print(torch.__version__)\n",
    "print(torch.cuda.is_available())\n",
    "\n",
    "torch.cuda.get_device_name(0)"
   ]
  },
  {
   "cell_type": "code",
   "execution_count": 3,
   "metadata": {
    "execution": {
     "iopub.execute_input": "2021-02-17T04:01:58.461387Z",
     "iopub.status.busy": "2021-02-17T04:01:58.460731Z",
     "iopub.status.idle": "2021-02-17T04:01:59.214481Z",
     "shell.execute_reply": "2021-02-17T04:01:59.213258Z"
    },
    "papermill": {
     "duration": 0.78456,
     "end_time": "2021-02-17T04:01:59.214718",
     "exception": false,
     "start_time": "2021-02-17T04:01:58.430158",
     "status": "completed"
    },
    "tags": []
   },
   "outputs": [],
   "source": [
    "package_paths=[\n",
    "    '../input/pytorch-image-models/pytorch-image-models-master',\n",
    "    '../input/image-fmix/FMix-master'\n",
    "]\n",
    "import sys; \n",
    "for package_path in package_paths:\n",
    "    sys.path.append(package_path)\n",
    "\n",
    "from fmix import sample_mask"
   ]
  },
  {
   "cell_type": "code",
   "execution_count": 4,
   "metadata": {
    "execution": {
     "iopub.execute_input": "2021-02-17T04:01:59.278802Z",
     "iopub.status.busy": "2021-02-17T04:01:59.277975Z",
     "iopub.status.idle": "2021-02-17T04:02:00.913139Z",
     "shell.execute_reply": "2021-02-17T04:02:00.912063Z"
    },
    "papermill": {
     "duration": 1.671098,
     "end_time": "2021-02-17T04:02:00.913285",
     "exception": false,
     "start_time": "2021-02-17T04:01:59.242187",
     "status": "completed"
    },
    "tags": []
   },
   "outputs": [],
   "source": [
    "from glob import glob\n",
    "from sklearn.model_selection import GroupKFold, StratifiedKFold,KFold\n",
    "import cv2\n",
    "from skimage import io\n",
    "import torch\n",
    "import torch.nn as nn\n",
    "import os\n",
    "from datetime import datetime\n",
    "import time\n",
    "import random\n",
    "import cv2\n",
    "import torchvision\n",
    "import torch.nn as nn\n",
    "import torchvision.transforms as transforms\n",
    "import pandas as pd\n",
    "import numpy as np\n",
    "from tqdm import tqdm\n",
    "from PIL import Image\n",
    "import matplotlib.pyplot as plt\n",
    "from torch.utils.data import Dataset,DataLoader\n",
    "from torch.utils.data.sampler import SequentialSampler, RandomSampler\n",
    "from  torch.cuda.amp import autocast, GradScaler #自动、混合精度\n",
    "import sklearn\n",
    "import warnings\n",
    "import joblib\n",
    "from sklearn.metrics import roc_auc_score, log_loss\n",
    "from sklearn import metrics\n",
    "import warnings\n",
    "import cv2\n",
    "import pydicom\n",
    "import timm #from efficientnet_pytorch import EfficientNet\n",
    "from scipy.ndimage.interpolation import zoom\n",
    "from sklearn.metrics import log_loss"
   ]
  },
  {
   "cell_type": "markdown",
   "metadata": {
    "papermill": {
     "duration": 0.027481,
     "end_time": "2021-02-17T04:02:00.968843",
     "exception": false,
     "start_time": "2021-02-17T04:02:00.941362",
     "status": "completed"
    },
    "tags": []
   },
   "source": [
    "## parameters"
   ]
  },
  {
   "cell_type": "code",
   "execution_count": 5,
   "metadata": {
    "execution": {
     "iopub.execute_input": "2021-02-17T04:02:01.030440Z",
     "iopub.status.busy": "2021-02-17T04:02:01.029597Z",
     "iopub.status.idle": "2021-02-17T04:02:01.033060Z",
     "shell.execute_reply": "2021-02-17T04:02:01.032461Z"
    },
    "papermill": {
     "duration": 0.038082,
     "end_time": "2021-02-17T04:02:01.033194",
     "exception": false,
     "start_time": "2021-02-17T04:02:00.995112",
     "status": "completed"
    },
    "tags": []
   },
   "outputs": [],
   "source": [
    "CFG = {\n",
    "    'fold_num': 5,\n",
    "    'seed': 719,\n",
    "    'model_arch': 'tf_efficientnet_b4_ns',\n",
    "    'img_size': 512, #?\n",
    "    'epochs': 10,\n",
    "    'train_bs': 16,\n",
    "    'valid_bs': 32,\n",
    "    'T_0': 10,\n",
    "    'min_lr': 1e-6,\n",
    "    'lr': 1e-4,\n",
    "    'accum_iter': 1,\n",
    "    'num_workers': 5,\n",
    "    'verbose_step': 5,\n",
    "    'device':  torch.device(\"cuda:0\" if torch.cuda.is_available() else \"cpu\"),\n",
    "    'weights': [1,1,1,1],\n",
    "    'weight_decay':1e-6\n",
    "}"
   ]
  },
  {
   "cell_type": "markdown",
   "metadata": {
    "papermill": {
     "duration": 0.027205,
     "end_time": "2021-02-17T04:02:01.088127",
     "exception": false,
     "start_time": "2021-02-17T04:02:01.060922",
     "status": "completed"
    },
    "tags": []
   },
   "source": [
    "## seed"
   ]
  },
  {
   "cell_type": "code",
   "execution_count": 6,
   "metadata": {
    "execution": {
     "iopub.execute_input": "2021-02-17T04:02:01.152208Z",
     "iopub.status.busy": "2021-02-17T04:02:01.150281Z",
     "iopub.status.idle": "2021-02-17T04:02:01.152901Z",
     "shell.execute_reply": "2021-02-17T04:02:01.153417Z"
    },
    "papermill": {
     "duration": 0.037254,
     "end_time": "2021-02-17T04:02:01.153581",
     "exception": false,
     "start_time": "2021-02-17T04:02:01.116327",
     "status": "completed"
    },
    "tags": []
   },
   "outputs": [],
   "source": [
    "def seed_everything(seed):\n",
    "    random.seed(seed)\n",
    "    os.environ['PYTHONHASHSEED'] = str(seed)\n",
    "    np.random.seed(seed)\n",
    "    torch.manual_seed(seed)\n",
    "    torch.cuda.manual_seed(seed)\n",
    "    torch.backends.cudnn.deterministic = True\n",
    "    torch.backends.cudnn.benchmark = True"
   ]
  },
  {
   "cell_type": "markdown",
   "metadata": {
    "papermill": {
     "duration": 0.027228,
     "end_time": "2021-02-17T04:02:01.208059",
     "exception": false,
     "start_time": "2021-02-17T04:02:01.180831",
     "status": "completed"
    },
    "tags": []
   },
   "source": [
    "## image data check"
   ]
  },
  {
   "cell_type": "code",
   "execution_count": 7,
   "metadata": {
    "execution": {
     "iopub.execute_input": "2021-02-17T04:02:01.270695Z",
     "iopub.status.busy": "2021-02-17T04:02:01.270061Z",
     "iopub.status.idle": "2021-02-17T04:02:01.306236Z",
     "shell.execute_reply": "2021-02-17T04:02:01.305634Z"
    },
    "papermill": {
     "duration": 0.071391,
     "end_time": "2021-02-17T04:02:01.306379",
     "exception": false,
     "start_time": "2021-02-17T04:02:01.234988",
     "status": "completed"
    },
    "tags": []
   },
   "outputs": [],
   "source": [
    "train_path = '../input/cassava-leaf-disease-classification/train_images/'\n",
    "test_path = '../input/cassava-leaf-disease-classification/test_images/'\n",
    "\n",
    "train = pd.read_csv('../input/cassava-leaf-disease-classification/train.csv')\n",
    "submission = pd.read_csv('../input/cassava-leaf-disease-classification/sample_submission.csv')"
   ]
  },
  {
   "cell_type": "code",
   "execution_count": 8,
   "metadata": {
    "execution": {
     "iopub.execute_input": "2021-02-17T04:02:01.375092Z",
     "iopub.status.busy": "2021-02-17T04:02:01.374169Z",
     "iopub.status.idle": "2021-02-17T04:02:01.381408Z",
     "shell.execute_reply": "2021-02-17T04:02:01.381952Z"
    },
    "papermill": {
     "duration": 0.04762,
     "end_time": "2021-02-17T04:02:01.382102",
     "exception": false,
     "start_time": "2021-02-17T04:02:01.334482",
     "status": "completed"
    },
    "tags": []
   },
   "outputs": [
    {
     "data": {
      "text/html": [
       "<div>\n",
       "<style scoped>\n",
       "    .dataframe tbody tr th:only-of-type {\n",
       "        vertical-align: middle;\n",
       "    }\n",
       "\n",
       "    .dataframe tbody tr th {\n",
       "        vertical-align: top;\n",
       "    }\n",
       "\n",
       "    .dataframe thead th {\n",
       "        text-align: right;\n",
       "    }\n",
       "</style>\n",
       "<table border=\"1\" class=\"dataframe\">\n",
       "  <thead>\n",
       "    <tr style=\"text-align: right;\">\n",
       "      <th></th>\n",
       "      <th>image_id</th>\n",
       "      <th>label</th>\n",
       "    </tr>\n",
       "  </thead>\n",
       "  <tbody>\n",
       "    <tr>\n",
       "      <th>0</th>\n",
       "      <td>1000015157.jpg</td>\n",
       "      <td>0</td>\n",
       "    </tr>\n",
       "    <tr>\n",
       "      <th>1</th>\n",
       "      <td>1000201771.jpg</td>\n",
       "      <td>3</td>\n",
       "    </tr>\n",
       "    <tr>\n",
       "      <th>2</th>\n",
       "      <td>100042118.jpg</td>\n",
       "      <td>1</td>\n",
       "    </tr>\n",
       "    <tr>\n",
       "      <th>3</th>\n",
       "      <td>1000723321.jpg</td>\n",
       "      <td>1</td>\n",
       "    </tr>\n",
       "    <tr>\n",
       "      <th>4</th>\n",
       "      <td>1000812911.jpg</td>\n",
       "      <td>3</td>\n",
       "    </tr>\n",
       "  </tbody>\n",
       "</table>\n",
       "</div>"
      ],
      "text/plain": [
       "         image_id  label\n",
       "0  1000015157.jpg      0\n",
       "1  1000201771.jpg      3\n",
       "2   100042118.jpg      1\n",
       "3  1000723321.jpg      1\n",
       "4  1000812911.jpg      3"
      ]
     },
     "execution_count": 8,
     "metadata": {},
     "output_type": "execute_result"
    }
   ],
   "source": [
    "train.head()"
   ]
  },
  {
   "cell_type": "code",
   "execution_count": 9,
   "metadata": {
    "execution": {
     "iopub.execute_input": "2021-02-17T04:02:01.444136Z",
     "iopub.status.busy": "2021-02-17T04:02:01.443501Z",
     "iopub.status.idle": "2021-02-17T04:02:01.449994Z",
     "shell.execute_reply": "2021-02-17T04:02:01.449536Z"
    },
    "papermill": {
     "duration": 0.040628,
     "end_time": "2021-02-17T04:02:01.450113",
     "exception": false,
     "start_time": "2021-02-17T04:02:01.409485",
     "status": "completed"
    },
    "tags": []
   },
   "outputs": [
    {
     "data": {
      "text/html": [
       "<div>\n",
       "<style scoped>\n",
       "    .dataframe tbody tr th:only-of-type {\n",
       "        vertical-align: middle;\n",
       "    }\n",
       "\n",
       "    .dataframe tbody tr th {\n",
       "        vertical-align: top;\n",
       "    }\n",
       "\n",
       "    .dataframe thead th {\n",
       "        text-align: right;\n",
       "    }\n",
       "</style>\n",
       "<table border=\"1\" class=\"dataframe\">\n",
       "  <thead>\n",
       "    <tr style=\"text-align: right;\">\n",
       "      <th></th>\n",
       "      <th>image_id</th>\n",
       "      <th>label</th>\n",
       "    </tr>\n",
       "  </thead>\n",
       "  <tbody>\n",
       "    <tr>\n",
       "      <th>0</th>\n",
       "      <td>2216849948.jpg</td>\n",
       "      <td>4</td>\n",
       "    </tr>\n",
       "  </tbody>\n",
       "</table>\n",
       "</div>"
      ],
      "text/plain": [
       "         image_id  label\n",
       "0  2216849948.jpg      4"
      ]
     },
     "execution_count": 9,
     "metadata": {},
     "output_type": "execute_result"
    }
   ],
   "source": [
    "submission.head()"
   ]
  },
  {
   "cell_type": "code",
   "execution_count": 10,
   "metadata": {
    "execution": {
     "iopub.execute_input": "2021-02-17T04:02:01.513912Z",
     "iopub.status.busy": "2021-02-17T04:02:01.513199Z",
     "iopub.status.idle": "2021-02-17T04:02:01.516787Z",
     "shell.execute_reply": "2021-02-17T04:02:01.517289Z"
    },
    "papermill": {
     "duration": 0.03924,
     "end_time": "2021-02-17T04:02:01.517437",
     "exception": false,
     "start_time": "2021-02-17T04:02:01.478197",
     "status": "completed"
    },
    "tags": []
   },
   "outputs": [
    {
     "data": {
      "text/plain": [
       "(array(['1000015157.jpg', '1000201771.jpg', '100042118.jpg', ...,\n",
       "        '999474432.jpg', '999616605.jpg', '999998473.jpg'], dtype=object),\n",
       " array([0, 3, 1, ..., 1, 4, 4]))"
      ]
     },
     "execution_count": 10,
     "metadata": {},
     "output_type": "execute_result"
    }
   ],
   "source": [
    "X_train, y_train = train['image_id'].values, train['label'].values\n",
    "X_train,y_train"
   ]
  },
  {
   "cell_type": "code",
   "execution_count": 11,
   "metadata": {
    "execution": {
     "iopub.execute_input": "2021-02-17T04:02:01.581502Z",
     "iopub.status.busy": "2021-02-17T04:02:01.580788Z",
     "iopub.status.idle": "2021-02-17T04:02:01.590429Z",
     "shell.execute_reply": "2021-02-17T04:02:01.589923Z"
    },
    "papermill": {
     "duration": 0.043808,
     "end_time": "2021-02-17T04:02:01.590564",
     "exception": false,
     "start_time": "2021-02-17T04:02:01.546756",
     "status": "completed"
    },
    "tags": []
   },
   "outputs": [
    {
     "data": {
      "text/plain": [
       "['2216849948.jpg']"
      ]
     },
     "execution_count": 11,
     "metadata": {},
     "output_type": "execute_result"
    }
   ],
   "source": [
    "X_test = [name for name in (os.listdir(test_path))]\n",
    "X_test"
   ]
  },
  {
   "cell_type": "markdown",
   "metadata": {
    "papermill": {
     "duration": 0.030696,
     "end_time": "2021-02-17T04:02:01.652047",
     "exception": false,
     "start_time": "2021-02-17T04:02:01.621351",
     "status": "completed"
    },
    "tags": []
   },
   "source": [
    "## Helper Functions"
   ]
  },
  {
   "cell_type": "code",
   "execution_count": 12,
   "metadata": {
    "execution": {
     "iopub.execute_input": "2021-02-17T04:02:01.716339Z",
     "iopub.status.busy": "2021-02-17T04:02:01.715578Z",
     "iopub.status.idle": "2021-02-17T04:02:01.718537Z",
     "shell.execute_reply": "2021-02-17T04:02:01.719031Z"
    },
    "papermill": {
     "duration": 0.037828,
     "end_time": "2021-02-17T04:02:01.719166",
     "exception": false,
     "start_time": "2021-02-17T04:02:01.681338",
     "status": "completed"
    },
    "tags": []
   },
   "outputs": [
    {
     "data": {
      "text/plain": [
       "'edcba'"
      ]
     },
     "execution_count": 12,
     "metadata": {},
     "output_type": "execute_result"
    }
   ],
   "source": [
    "#reverse\n",
    "line = \"abcde\"\n",
    "line[::-1]"
   ]
  },
  {
   "cell_type": "code",
   "execution_count": 13,
   "metadata": {
    "execution": {
     "iopub.execute_input": "2021-02-17T04:02:01.785314Z",
     "iopub.status.busy": "2021-02-17T04:02:01.784445Z",
     "iopub.status.idle": "2021-02-17T04:02:01.787051Z",
     "shell.execute_reply": "2021-02-17T04:02:01.787561Z"
    },
    "papermill": {
     "duration": 0.038039,
     "end_time": "2021-02-17T04:02:01.787704",
     "exception": false,
     "start_time": "2021-02-17T04:02:01.749665",
     "status": "completed"
    },
    "tags": []
   },
   "outputs": [],
   "source": [
    "#get a img sample\n",
    "def get_img(path):\n",
    "    img_bgr = cv2.imread(path)\n",
    "    img_rgb = img_bgr[:,:,::-1]\n",
    "#     print(img_bgr)\n",
    "#     print('------')\n",
    "#     print(img_rgb)\n",
    "    return img_rgb"
   ]
  },
  {
   "cell_type": "code",
   "execution_count": 14,
   "metadata": {
    "execution": {
     "iopub.execute_input": "2021-02-17T04:02:01.852534Z",
     "iopub.status.busy": "2021-02-17T04:02:01.851897Z",
     "iopub.status.idle": "2021-02-17T04:02:02.168363Z",
     "shell.execute_reply": "2021-02-17T04:02:02.168909Z"
    },
    "papermill": {
     "duration": 0.350768,
     "end_time": "2021-02-17T04:02:02.169081",
     "exception": false,
     "start_time": "2021-02-17T04:02:01.818313",
     "status": "completed"
    },
    "tags": []
   },
   "outputs": [
    {
     "data": {
      "image/png": "[encoded data removed]",
      "text/plain": [
       "<Figure size 432x288 with 1 Axes>"
      ]
     },
     "metadata": {
      "needs_background": "light"
     },
     "output_type": "display_data"
    }
   ],
   "source": [
    "img = get_img('../input/cassava-leaf-disease-classification/train_images/1000015157.jpg')\n",
    "plt.imshow(img)\n",
    "plt.show()"
   ]
  },
  {
   "cell_type": "markdown",
   "metadata": {
    "papermill": {
     "duration": 0.035805,
     "end_time": "2021-02-17T04:02:02.240793",
     "exception": false,
     "start_time": "2021-02-17T04:02:02.204988",
     "status": "completed"
    },
    "tags": []
   },
   "source": [
    "## dataset"
   ]
  },
  {
   "cell_type": "code",
   "execution_count": 15,
   "metadata": {
    "execution": {
     "iopub.execute_input": "2021-02-17T04:02:02.323339Z",
     "iopub.status.busy": "2021-02-17T04:02:02.322378Z",
     "iopub.status.idle": "2021-02-17T04:02:02.325633Z",
     "shell.execute_reply": "2021-02-17T04:02:02.325056Z"
    },
    "papermill": {
     "duration": 0.048716,
     "end_time": "2021-02-17T04:02:02.325781",
     "exception": false,
     "start_time": "2021-02-17T04:02:02.277065",
     "status": "completed"
    },
    "tags": []
   },
   "outputs": [],
   "source": [
    "class LeafDataset(Dataset):\n",
    "    def __init__(self,df,data_root,transforms=None,img_label=True):\n",
    "        super().__init__()\n",
    "        self.df = df.reset_index(drop=True).copy()\n",
    "        self.transforms = transforms\n",
    "        self.data_root = data_root\n",
    "        self.img_label = img_label\n",
    "    \n",
    "    def __len__(self):\n",
    "        return self.df.shape[0]\n",
    "    \n",
    "    def __getitem__(self,index: int):\n",
    "        # get label\n",
    "        if self.img_label:\n",
    "            target = self.df.iloc[index]['label']\n",
    "        \n",
    "        path = \"{}/{}\".format(self.data_root,self.df.iloc[index]['image_id'])\n",
    "        \n",
    "        img = get_img(path)\n",
    "        \n",
    "        if self.transforms:\n",
    "            img = self.transforms(image=img)['image']\n",
    "        \n",
    "        # do label smoothing\n",
    "        \n",
    "        if self.img_label == True: # if label exists so it is a train img\n",
    "            return img,target\n",
    "        else:\n",
    "            return img"
   ]
  },
  {
   "cell_type": "markdown",
   "metadata": {
    "papermill": {
     "duration": 0.036604,
     "end_time": "2021-02-17T04:02:02.398862",
     "exception": false,
     "start_time": "2021-02-17T04:02:02.362258",
     "status": "completed"
    },
    "tags": []
   },
   "source": [
    "## transform"
   ]
  },
  {
   "cell_type": "code",
   "execution_count": 16,
   "metadata": {
    "execution": {
     "iopub.execute_input": "2021-02-17T04:02:02.478901Z",
     "iopub.status.busy": "2021-02-17T04:02:02.478106Z",
     "iopub.status.idle": "2021-02-17T04:02:03.266938Z",
     "shell.execute_reply": "2021-02-17T04:02:03.265205Z"
    },
    "papermill": {
     "duration": 0.831944,
     "end_time": "2021-02-17T04:02:03.267108",
     "exception": false,
     "start_time": "2021-02-17T04:02:02.435164",
     "status": "completed"
    },
    "tags": []
   },
   "outputs": [],
   "source": [
    "from albumentations import (\n",
    "    HorizontalFlip, VerticalFlip, IAAPerspective, ShiftScaleRotate, CLAHE, RandomRotate90,\n",
    "    Transpose, ShiftScaleRotate, Blur, OpticalDistortion, GridDistortion, HueSaturationValue,\n",
    "    IAAAdditiveGaussianNoise, GaussNoise, MotionBlur, MedianBlur, IAAPiecewiseAffine, RandomResizedCrop,\n",
    "    IAASharpen, IAAEmboss, RandomBrightnessContrast, Flip, OneOf, Compose, Normalize, Cutout, CoarseDropout, ShiftScaleRotate, CenterCrop, Resize\n",
    ")\n",
    "\n",
    "from albumentations.pytorch import ToTensorV2\n",
    "\n",
    "from albumentations import (\n",
    "    HorizontalFlip, VerticalFlip, IAAPerspective, ShiftScaleRotate, CLAHE, RandomRotate90,\n",
    "    Transpose, ShiftScaleRotate, Blur, OpticalDistortion, GridDistortion, HueSaturationValue,\n",
    "    IAAAdditiveGaussianNoise, GaussNoise, MotionBlur, MedianBlur, IAAPiecewiseAffine, RandomResizedCrop,\n",
    "    IAASharpen, IAAEmboss, RandomBrightnessContrast, Flip, OneOf, Compose, Normalize, Cutout, CoarseDropout, ShiftScaleRotate, CenterCrop, Resize\n",
    ")\n",
    "\n",
    "from albumentations.pytorch import ToTensorV2"
   ]
  },
  {
   "cell_type": "code",
   "execution_count": 17,
   "metadata": {
    "execution": {
     "iopub.execute_input": "2021-02-17T04:02:03.357957Z",
     "iopub.status.busy": "2021-02-17T04:02:03.355919Z",
     "iopub.status.idle": "2021-02-17T04:02:03.358676Z",
     "shell.execute_reply": "2021-02-17T04:02:03.359191Z"
    },
    "papermill": {
     "duration": 0.055732,
     "end_time": "2021-02-17T04:02:03.359340",
     "exception": false,
     "start_time": "2021-02-17T04:02:03.303608",
     "status": "completed"
    },
    "tags": []
   },
   "outputs": [],
   "source": [
    "def get_train_transforms():\n",
    "    return Compose([\n",
    "            #将给定图像随机裁剪为不同的大小和宽高比，然后缩放所裁剪得到的图像为制定的大小；（即先随机采集，然后对裁剪得到的图像缩放为同一大小）\n",
    "            RandomResizedCrop(CFG['img_size'], CFG['img_size']),\n",
    "            # 转置\n",
    "            Transpose(p=0.5),\n",
    "            HorizontalFlip(p=0.5), #img翻转 \n",
    "            VerticalFlip(p=0.5),# 依据概率p对PIL图片进行垂直翻转\n",
    "            ShiftScaleRotate(p=0.5),# 随机放射变换（ShiftScaleRotate），该方法可以对图片进行平移（translate）、缩放（scale）和旋转（roatate）\n",
    "            # 随机改变图片的 HUE、饱和度和值\n",
    "            HueSaturationValue(hue_shift_limit=0.2, sat_shift_limit=0.2, val_shift_limit=0.2, p=0.5),\n",
    "            #随机亮度对比度\n",
    "            RandomBrightnessContrast(brightness_limit=(-0.1,0.1), contrast_limit=(-0.1, 0.1), p=0.5),\n",
    "            #将像素值除以255 = 2 ** 8 - 1，减去每个通道的平均值并除以每个通道的std\n",
    "            Normalize(mean=[0.485, 0.456, 0.406], std=[0.229, 0.224, 0.225], max_pixel_value=255.0, p=1.0),\n",
    "            # 在图像上生成矩形区域。\n",
    "            CoarseDropout(p=0.5),\n",
    "            # 在图像中生成正方形区域。\n",
    "            Cutout(p=0.5),\n",
    "            ToTensorV2(p=1.0),\n",
    "        ], p=1.)\n",
    "\n",
    "def get_valid_transforms():\n",
    "    return Compose([\n",
    "        CenterCrop(CFG['img_size'],CFG['img_size'],p=1.),\n",
    "        Resize(CFG['img_size'],CFG['img_size']),\n",
    "        Normalize(mean=[0.485,0.456,0.406],std=[0.229,0.224,0.225],max_pixel_value=255.0,p=1.0),\n",
    "        ToTensorV2(p=1.0),\n",
    "    ],p=1.)\n",
    "\n",
    "\n",
    "def get_inference_transforms():\n",
    "    return Compose([\n",
    "        #随机裁剪大小\n",
    "        RandomResizedCrop(CFG['img_size'],CFG['img_size']),\n",
    "        #转置\n",
    "        Transpose(p=0.5),\n",
    "        #翻转\n",
    "        HorizontalFlip(p=0.5),\n",
    "        #垂直翻转\n",
    "        VerticalFlip(p=0.5),\n",
    "        #随机色调，饱和度\n",
    "        HueSaturationValue(hue_shift_limit=0.2, sat_shift_limit=0.2, val_shift_limit=0.2, p=0.5),\n",
    "        #随机亮度对比度\n",
    "        RandomBrightnessContrast(brightness_limit=(-0.1,0.1), contrast_limit=(-0.1, 0.1), p=0.5),\n",
    "        #Normalize归一化\n",
    "        Normalize(mean=[0.485,0.456,0.406],std=[0.229,0.224,0.225],max_pixel_value=255.0,p=1.0),\n",
    "        ToTensorV2(p=1.),\n",
    "    ],p=1.)"
   ]
  },
  {
   "cell_type": "markdown",
   "metadata": {
    "papermill": {
     "duration": 0.03726,
     "end_time": "2021-02-17T04:02:03.433608",
     "exception": false,
     "start_time": "2021-02-17T04:02:03.396348",
     "status": "completed"
    },
    "tags": []
   },
   "source": [
    "## Cutmix and Fmix"
   ]
  },
  {
   "cell_type": "code",
   "execution_count": 18,
   "metadata": {
    "execution": {
     "iopub.execute_input": "2021-02-17T04:02:03.510705Z",
     "iopub.status.busy": "2021-02-17T04:02:03.509867Z",
     "iopub.status.idle": "2021-02-17T04:02:03.516623Z",
     "shell.execute_reply": "2021-02-17T04:02:03.515895Z"
    },
    "papermill": {
     "duration": 0.047143,
     "end_time": "2021-02-17T04:02:03.516761",
     "exception": false,
     "start_time": "2021-02-17T04:02:03.469618",
     "status": "completed"
    },
    "tags": []
   },
   "outputs": [],
   "source": [
    "from pylab import rcParams\n",
    "rcParams['figure.figsize'] = 20,40"
   ]
  },
  {
   "cell_type": "code",
   "execution_count": 19,
   "metadata": {
    "execution": {
     "iopub.execute_input": "2021-02-17T04:02:03.604199Z",
     "iopub.status.busy": "2021-02-17T04:02:03.603092Z",
     "iopub.status.idle": "2021-02-17T04:02:03.607278Z",
     "shell.execute_reply": "2021-02-17T04:02:03.606739Z"
    },
    "papermill": {
     "duration": 0.054991,
     "end_time": "2021-02-17T04:02:03.607408",
     "exception": false,
     "start_time": "2021-02-17T04:02:03.552417",
     "status": "completed"
    },
    "tags": []
   },
   "outputs": [],
   "source": [
    "def rand_bbox(size, lam):\n",
    "    W = size[2]\n",
    "    H = size[3]\n",
    "    cut_rat = np.sqrt(1. - lam)\n",
    "    cut_w = np.int(W * cut_rat)\n",
    "    cut_h = np.int(H * cut_rat)\n",
    "\n",
    "    # uniform\n",
    "    cx = np.random.randint(W)\n",
    "    cy = np.random.randint(H)\n",
    "\n",
    "    bbx1 = np.clip(cx - cut_w // 2, 0, W)\n",
    "    bby1 = np.clip(cy - cut_h // 2, 0, H)\n",
    "    bbx2 = np.clip(cx + cut_w // 2, 0, W)\n",
    "    bby2 = np.clip(cy + cut_h // 2, 0, H)\n",
    "    return bbx1, bby1, bbx2, bby2\n",
    "\n",
    "def cutmix(data, target, alpha):\n",
    "    indices = torch.randperm(data.size(0))\n",
    "    shuffled_data = data[indices]\n",
    "    shuffled_target = target[indices]\n",
    "\n",
    "    lam = np.clip(np.random.beta(alpha, alpha),0.3,0.4)\n",
    "    bbx1, bby1, bbx2, bby2 = rand_bbox(data.size(), lam)\n",
    "    new_data = data.clone()\n",
    "    new_data[:, :, bby1:bby2, bbx1:bbx2] = data[indices, :, bby1:bby2, bbx1:bbx2]\n",
    "    # adjust lambda to exactly match pixel ratio\n",
    "    lam = 1 - ((bbx2 - bbx1) * (bby2 - bby1) / (data.size()[-1] * data.size()[-2]))\n",
    "    targets = (target, shuffled_target, lam)\n",
    "\n",
    "    return new_data, targets\n",
    "\n",
    "def fmix(data, targets, alpha, decay_power, shape, max_soft=0.0, reformulate=False):\n",
    "    lam, mask = sample_mask(alpha, decay_power, shape, max_soft, reformulate)\n",
    "    #mask =torch.tensor(mask, device=device).float()\n",
    "    indices = torch.randperm(data.size(0))\n",
    "    shuffled_data = data[indices]\n",
    "    shuffled_targets = targets[indices]\n",
    "    x1 = torch.from_numpy(mask).to(device)*data\n",
    "    x2 = torch.from_numpy(1-mask).to(device)*shuffled_data\n",
    "    targets=(targets, shuffled_targets, lam)\n",
    "    \n",
    "    return (x1+x2), targets"
   ]
  },
  {
   "cell_type": "markdown",
   "metadata": {
    "papermill": {
     "duration": 0.0367,
     "end_time": "2021-02-17T04:02:03.679684",
     "exception": false,
     "start_time": "2021-02-17T04:02:03.642984",
     "status": "completed"
    },
    "tags": []
   },
   "source": [
    "## Dataloader"
   ]
  },
  {
   "cell_type": "code",
   "execution_count": 20,
   "metadata": {
    "execution": {
     "iopub.execute_input": "2021-02-17T04:02:03.762629Z",
     "iopub.status.busy": "2021-02-17T04:02:03.761634Z",
     "iopub.status.idle": "2021-02-17T04:02:03.765039Z",
     "shell.execute_reply": "2021-02-17T04:02:03.764496Z"
    },
    "papermill": {
     "duration": 0.048985,
     "end_time": "2021-02-17T04:02:03.765170",
     "exception": false,
     "start_time": "2021-02-17T04:02:03.716185",
     "status": "completed"
    },
    "tags": []
   },
   "outputs": [],
   "source": [
    "\n",
    "def prepare_dataloader(df, trn_idx, val_idx, data_root='../input/cassava-leaf-disease-classification/train_images/'):\n",
    "    from catalyst.data.sampler import BalanceClassSampler\n",
    "    \n",
    "    train_ = df.loc[trn_idx,:].reset_index(drop=True)\n",
    "    valid_ = df.loc[val_idx,:].reset_index(drop=True)\n",
    "    \n",
    "    train_ds = LeafDataset(train,data_root,transforms=get_train_transforms(),img_label=True)\n",
    "    valid_ds = LeafDataset(valid_,data_root, transforms=get_valid_transforms(), img_label=True)\n",
    "    \n",
    "    train_loader = torch.utils.data.DataLoader(\n",
    "        train_ds,\n",
    "        batch_size=CFG['train_bs'],\n",
    "        pin_memory=False,\n",
    "        drop_last=False,\n",
    "        shuffle=True,        \n",
    "        num_workers=CFG['num_workers'],\n",
    "        #sampler=BalanceClassSampler(labels=train_['label'].values, mode=\"downsampling\")\n",
    "    )\n",
    "    val_loader = torch.utils.data.DataLoader(\n",
    "        valid_ds, \n",
    "        batch_size=CFG['valid_bs'],\n",
    "        num_workers=CFG['num_workers'],\n",
    "        shuffle=False,\n",
    "        pin_memory=False,\n",
    "    )\n",
    "    return train_loader, val_loader"
   ]
  },
  {
   "cell_type": "markdown",
   "metadata": {
    "papermill": {
     "duration": 0.037491,
     "end_time": "2021-02-17T04:02:03.841021",
     "exception": false,
     "start_time": "2021-02-17T04:02:03.803530",
     "status": "completed"
    },
    "tags": []
   },
   "source": [
    "## Model"
   ]
  },
  {
   "cell_type": "code",
   "execution_count": 21,
   "metadata": {
    "execution": {
     "iopub.execute_input": "2021-02-17T04:02:03.922533Z",
     "iopub.status.busy": "2021-02-17T04:02:03.921675Z",
     "iopub.status.idle": "2021-02-17T04:02:03.924821Z",
     "shell.execute_reply": "2021-02-17T04:02:03.924301Z"
    },
    "papermill": {
     "duration": 0.046813,
     "end_time": "2021-02-17T04:02:03.924955",
     "exception": false,
     "start_time": "2021-02-17T04:02:03.878142",
     "status": "completed"
    },
    "tags": []
   },
   "outputs": [],
   "source": [
    "class LeafClassifier(nn.Module):\n",
    "    def __init__(self,model_name,n_class,pretrained=False):\n",
    "        super().__init__()\n",
    "        self.model = timm.create_model(model_name,pretrained=pretrained)\n",
    "        n_features = self.model.classifier.in_features\n",
    "        self.model.classifier = nn.Linear(n_features,n_class)\n",
    "        \n",
    "    def forward(self,x):\n",
    "        x = self.model(x)\n",
    "        return x"
   ]
  },
  {
   "cell_type": "code",
   "execution_count": 22,
   "metadata": {
    "execution": {
     "iopub.execute_input": "2021-02-17T04:02:04.006613Z",
     "iopub.status.busy": "2021-02-17T04:02:04.005773Z",
     "iopub.status.idle": "2021-02-17T04:02:04.008861Z",
     "shell.execute_reply": "2021-02-17T04:02:04.008341Z"
    },
    "papermill": {
     "duration": 0.047575,
     "end_time": "2021-02-17T04:02:04.008994",
     "exception": false,
     "start_time": "2021-02-17T04:02:03.961419",
     "status": "completed"
    },
    "tags": []
   },
   "outputs": [],
   "source": [
    "class EnsembleModel(nn.Module):\n",
    "    def __init__(self, model_arch, n_class, pretrained=False):\n",
    "        super().__init__()\n",
    "        self.model = timm.create_model(model_arch, pretrained=pretrained)\n",
    "        if model_arch == 'tf_efficientnet_b4_ns':\n",
    "            n_features = self.model.classifier.in_features\n",
    "            self.model.classifier = nn.Linear(n_features, n_class)\n",
    "        if model_arch == 'resnext50_32x4d':\n",
    "            n_features = self.model.fc.in_features\n",
    "            self.model.fc = nn.Linear(n_features, n_class)\n",
    "        if model_arch == 'vit_base_patch16_384':\n",
    "            n_features = self.model.head.in_features\n",
    "            self.model.head = nn.Linear(n_features, n_class)\n",
    "        \n",
    "    def forward(self, x):\n",
    "        x = self.model(x)\n",
    "        return x"
   ]
  },
  {
   "cell_type": "markdown",
   "metadata": {
    "papermill": {
     "duration": 0.038006,
     "end_time": "2021-02-17T04:02:04.084686",
     "exception": false,
     "start_time": "2021-02-17T04:02:04.046680",
     "status": "completed"
    },
    "tags": []
   },
   "source": [
    "## Focal Loss"
   ]
  },
  {
   "cell_type": "code",
   "execution_count": 23,
   "metadata": {
    "execution": {
     "iopub.execute_input": "2021-02-17T04:02:04.169057Z",
     "iopub.status.busy": "2021-02-17T04:02:04.168153Z",
     "iopub.status.idle": "2021-02-17T04:02:04.171377Z",
     "shell.execute_reply": "2021-02-17T04:02:04.170856Z"
    },
    "papermill": {
     "duration": 0.048452,
     "end_time": "2021-02-17T04:02:04.171519",
     "exception": false,
     "start_time": "2021-02-17T04:02:04.123067",
     "status": "completed"
    },
    "tags": []
   },
   "outputs": [],
   "source": [
    "import torch\n",
    "import torch.nn as nn\n",
    "import torch.nn.functional as F\n",
    "\n",
    "class FocalLoss(nn.modules.loss._WeightedLoss):\n",
    "    def __init__(self, weight=None, gamma=2,reduction='mean'):\n",
    "        super(FocalLoss, self).__init__(weight,reduction=reduction)\n",
    "        self.gamma = gamma\n",
    "        self.weight = weight\n",
    "\n",
    "    def forward(self, input_, target):\n",
    "        ce_loss = F.cross_entropy(input_, target,reduction=self.reduction,weight=self.weight) \n",
    "        pt = torch.exp(-ce_loss)\n",
    "        focal_loss = ((1 - pt) ** self.gamma * ce_loss).mean()\n",
    "        return focal_loss\n",
    "\n",
    "# loss_tr = FocalLoss().to(device); loss_fn = FocalLoss().to(device)"
   ]
  },
  {
   "cell_type": "markdown",
   "metadata": {
    "papermill": {
     "duration": 0.037877,
     "end_time": "2021-02-17T04:02:04.247181",
     "exception": false,
     "start_time": "2021-02-17T04:02:04.209304",
     "status": "completed"
    },
    "tags": []
   },
   "source": [
    "## train one epoch"
   ]
  },
  {
   "cell_type": "code",
   "execution_count": 24,
   "metadata": {
    "execution": {
     "iopub.execute_input": "2021-02-17T04:02:04.340553Z",
     "iopub.status.busy": "2021-02-17T04:02:04.338484Z",
     "iopub.status.idle": "2021-02-17T04:02:04.341352Z",
     "shell.execute_reply": "2021-02-17T04:02:04.341893Z"
    },
    "papermill": {
     "duration": 0.056924,
     "end_time": "2021-02-17T04:02:04.342065",
     "exception": false,
     "start_time": "2021-02-17T04:02:04.285141",
     "status": "completed"
    },
    "tags": []
   },
   "outputs": [],
   "source": [
    "def train_one_epoch(epoch, model, loss_fn, optimizer, train_loader, device, scheduler=None, schd_batch_update=False):\n",
    "    model.train()\n",
    "\n",
    "    t = time.time()\n",
    "    running_loss = None\n",
    "\n",
    "    pbar = tqdm(enumerate(train_loader), total=len(train_loader))\n",
    "    for step, (imgs, image_labels) in pbar:\n",
    "        imgs = imgs.to(device).float()\n",
    "        image_labels = image_labels.to(device).long()\n",
    "        \n",
    "        mix_decision = np.random.rand()\n",
    "        if mix_decision < 0.25:\n",
    "            imgs, image_labels = cutmix(imgs, image_labels, 1.)\n",
    "        elif mix_decision >=0.25 and mix_decision < 0.5:\n",
    "            imgs, image_labels = fmix(imgs, image_labels, alpha=1., decay_power=5., shape=(CFG['img_size'],CFG['img_size']))\n",
    "        \n",
    "        optimizer.zero_grad()\n",
    "        \n",
    "        with autocast():\n",
    "#             image_preds = model(imgs)   \n",
    "            image_preds = model(imgs.float())\n",
    "\n",
    "#             loss = loss_fn(image_preds, image_labels)\n",
    "            if mix_decision < 0.50:\n",
    "                loss = loss_fn(image_preds, image_labels[0]) * image_labels[2] + loss_fn(image_preds, image_labels[1]) * (1. - image_labels[2])\n",
    "            else:\n",
    "                loss = loss_fn(image_preds, image_labels)\n",
    "            \n",
    "            scaler.scale(loss).backward()\n",
    "#         loss.backward()\n",
    "#         optimizer.step()\n",
    "            if running_loss is None:\n",
    "                running_loss = loss.item()\n",
    "            else:\n",
    "                running_loss = running_loss * .99 + loss.item() * .01\n",
    "                \n",
    "        if ((step + 1) %  CFG['accum_iter'] == 0) or ((step + 1) == len(train_loader)):\n",
    "                # may unscale_ here if desired (e.g., to allow clipping unscaled gradients)\n",
    "\n",
    "                scaler.step(optimizer)\n",
    "                scaler.update()\n",
    "                optimizer.zero_grad() \n",
    "                \n",
    "                if scheduler is not None and schd_batch_update:\n",
    "                    scheduler.step()\n",
    "\n",
    "        if ((step + 1) % CFG['verbose_step'] == 0) or ((step + 1) == len(train_loader)):\n",
    "            description = f'epoch {epoch} loss: {running_loss:.4f}'\n",
    "            pbar.set_description(description)\n",
    "                \n",
    "    if scheduler is not None and not schd_batch_update:\n",
    "        scheduler.step()"
   ]
  },
  {
   "cell_type": "markdown",
   "metadata": {
    "papermill": {
     "duration": 0.035654,
     "end_time": "2021-02-17T04:02:04.414992",
     "exception": false,
     "start_time": "2021-02-17T04:02:04.379338",
     "status": "completed"
    },
    "tags": []
   },
   "source": [
    "## valid one epoch"
   ]
  },
  {
   "cell_type": "code",
   "execution_count": 25,
   "metadata": {
    "execution": {
     "iopub.execute_input": "2021-02-17T04:02:04.499581Z",
     "iopub.status.busy": "2021-02-17T04:02:04.498886Z",
     "iopub.status.idle": "2021-02-17T04:02:04.502486Z",
     "shell.execute_reply": "2021-02-17T04:02:04.502002Z"
    },
    "papermill": {
     "duration": 0.05097,
     "end_time": "2021-02-17T04:02:04.502621",
     "exception": false,
     "start_time": "2021-02-17T04:02:04.451651",
     "status": "completed"
    },
    "tags": []
   },
   "outputs": [],
   "source": [
    "def valid_one_epoch(epoch, model, loss_fn, val_loader, device, scheduler=None, schd_loss_update=False):\n",
    "    model.eval()\n",
    "\n",
    "    t = time.time()\n",
    "    loss_sum = 0\n",
    "    sample_num = 0\n",
    "    image_preds_all = []\n",
    "    image_targets_all = []\n",
    "    \n",
    "    pbar = tqdm(enumerate(val_loader), total=len(val_loader))\n",
    "    for step, (imgs, image_labels) in pbar:\n",
    "        imgs = imgs.to(device).float()\n",
    "        image_labels = image_labels.to(device).long()\n",
    "        \n",
    "        image_preds = model(imgs)   #output = model(input)\n",
    "        #print(image_preds.shape, exam_pred.shape)\n",
    "        image_preds_all += [torch.argmax(image_preds, 1).detach().cpu().numpy()]\n",
    "        image_targets_all += [image_labels.detach().cpu().numpy()]\n",
    "        \n",
    "        loss = loss_fn(image_preds, image_labels)\n",
    "        \n",
    "        loss_sum += loss.item()*image_labels.shape[0]\n",
    "        sample_num += image_labels.shape[0]  \n",
    "\n",
    "        if ((step + 1) % CFG['verbose_step'] == 0) or ((step + 1) == len(val_loader)):\n",
    "            description = f'epoch {epoch} loss: {loss_sum/sample_num:.4f}'\n",
    "            pbar.set_description(description)\n",
    "    \n",
    "    image_preds_all = np.concatenate(image_preds_all)\n",
    "    image_targets_all = np.concatenate(image_targets_all)\n",
    "    print('validation multi-class accuracy = {:.4f}'.format((image_preds_all==image_targets_all).mean()))\n",
    "    \n",
    "    if scheduler is not None:\n",
    "        if schd_loss_update:\n",
    "            scheduler.step(loss_sum/sample_num)\n",
    "        else:\n",
    "            scheduler.step()"
   ]
  },
  {
   "cell_type": "markdown",
   "metadata": {
    "papermill": {
     "duration": 0.037061,
     "end_time": "2021-02-17T04:02:04.576066",
     "exception": false,
     "start_time": "2021-02-17T04:02:04.539005",
     "status": "completed"
    },
    "tags": []
   },
   "source": [
    "## interence one epoch"
   ]
  },
  {
   "cell_type": "code",
   "execution_count": 26,
   "metadata": {
    "execution": {
     "iopub.execute_input": "2021-02-17T04:02:04.659774Z",
     "iopub.status.busy": "2021-02-17T04:02:04.658847Z",
     "iopub.status.idle": "2021-02-17T04:02:04.661991Z",
     "shell.execute_reply": "2021-02-17T04:02:04.661472Z"
    },
    "papermill": {
     "duration": 0.04803,
     "end_time": "2021-02-17T04:02:04.662116",
     "exception": false,
     "start_time": "2021-02-17T04:02:04.614086",
     "status": "completed"
    },
    "tags": []
   },
   "outputs": [],
   "source": [
    "def inference_one_epoch(model,data_loader,device):\n",
    "    model.eval()\n",
    "    image_preds_all = []\n",
    "    pbar = tqdm(enumerate(data_loader),total=len(data_loader))\n",
    "    \n",
    "    for step,imgs in pbar:\n",
    "        imgs = imgs.to(device).float()\n",
    "        image_preds = model(imgs) #ooutput=model(input)\n",
    "        image_preds_all += [torch.softmax(image_preds, 1).detach().cpu().numpy()]\n",
    "    image_preds_all = np.concatenate(image_preds_all,axis=0)\n",
    "    return image_preds_all"
   ]
  },
  {
   "cell_type": "markdown",
   "metadata": {
    "papermill": {
     "duration": 0.037572,
     "end_time": "2021-02-17T04:02:04.738025",
     "exception": false,
     "start_time": "2021-02-17T04:02:04.700453",
     "status": "completed"
    },
    "tags": []
   },
   "source": [
    "## Main Loop"
   ]
  },
  {
   "cell_type": "code",
   "execution_count": 27,
   "metadata": {
    "execution": {
     "iopub.execute_input": "2021-02-17T04:02:04.827648Z",
     "iopub.status.busy": "2021-02-17T04:02:04.826755Z",
     "iopub.status.idle": "2021-02-17T07:29:40.866115Z",
     "shell.execute_reply": "2021-02-17T07:29:40.865570Z"
    },
    "papermill": {
     "duration": 12456.09124,
     "end_time": "2021-02-17T07:29:40.866266",
     "exception": false,
     "start_time": "2021-02-17T04:02:04.775026",
     "status": "completed"
    },
    "tags": []
   },
   "outputs": [
    {
     "name": "stderr",
     "output_type": "stream",
     "text": [
      "Downloading: \"https://github.com/rwightman/pytorch-image-models/releases/download/v0.1-weights/tf_efficientnet_b4_ns-d6313a46.pth\" to /root/.cache/torch/hub/checkpoints/tf_efficientnet_b4_ns-d6313a46.pth\n"
     ]
    },
    {
     "name": "stdout",
     "output_type": "stream",
     "text": [
      "Inference fold 0 started\n",
      "0\n"
     ]
    },
    {
     "name": "stderr",
     "output_type": "stream",
     "text": [
      "epoch 0 loss: 0.1817: 100%|██████████| 1338/1338 [19:35<00:00,  1.14it/s]\n",
      "epoch 0 loss: 0.0483: 100%|██████████| 134/134 [01:25<00:00,  1.56it/s]\n"
     ]
    },
    {
     "name": "stdout",
     "output_type": "stream",
     "text": [
      "validation multi-class accuracy = 0.8741\n",
      "1\n"
     ]
    },
    {
     "name": "stderr",
     "output_type": "stream",
     "text": [
      "epoch 1 loss: 0.1757: 100%|██████████| 1338/1338 [19:29<00:00,  1.14it/s]\n",
      "epoch 1 loss: 0.0375: 100%|██████████| 134/134 [01:27<00:00,  1.53it/s]\n"
     ]
    },
    {
     "name": "stdout",
     "output_type": "stream",
     "text": [
      "validation multi-class accuracy = 0.8937\n",
      "2\n"
     ]
    },
    {
     "name": "stderr",
     "output_type": "stream",
     "text": [
      "epoch 2 loss: 0.1507: 100%|██████████| 1338/1338 [19:42<00:00,  1.13it/s]\n",
      "epoch 2 loss: 0.0341: 100%|██████████| 134/134 [01:25<00:00,  1.56it/s]\n"
     ]
    },
    {
     "name": "stdout",
     "output_type": "stream",
     "text": [
      "validation multi-class accuracy = 0.8993\n",
      "3\n"
     ]
    },
    {
     "name": "stderr",
     "output_type": "stream",
     "text": [
      "epoch 3 loss: 0.1458: 100%|██████████| 1338/1338 [19:31<00:00,  1.14it/s]\n",
      "epoch 3 loss: 0.0307: 100%|██████████| 134/134 [01:19<00:00,  1.68it/s]\n"
     ]
    },
    {
     "name": "stdout",
     "output_type": "stream",
     "text": [
      "validation multi-class accuracy = 0.9019\n",
      "4\n"
     ]
    },
    {
     "name": "stderr",
     "output_type": "stream",
     "text": [
      "epoch 4 loss: 0.1282: 100%|██████████| 1338/1338 [19:13<00:00,  1.16it/s]\n",
      "epoch 4 loss: 0.0276: 100%|██████████| 134/134 [01:19<00:00,  1.68it/s]\n"
     ]
    },
    {
     "name": "stdout",
     "output_type": "stream",
     "text": [
      "validation multi-class accuracy = 0.9049\n",
      "5\n"
     ]
    },
    {
     "name": "stderr",
     "output_type": "stream",
     "text": [
      "epoch 5 loss: 0.1252: 100%|██████████| 1338/1338 [19:13<00:00,  1.16it/s]\n",
      "epoch 5 loss: 0.0260: 100%|██████████| 134/134 [01:18<00:00,  1.71it/s]\n"
     ]
    },
    {
     "name": "stdout",
     "output_type": "stream",
     "text": [
      "validation multi-class accuracy = 0.9100\n",
      "6\n"
     ]
    },
    {
     "name": "stderr",
     "output_type": "stream",
     "text": [
      "epoch 6 loss: 0.1223: 100%|██████████| 1338/1338 [19:13<00:00,  1.16it/s]\n",
      "epoch 6 loss: 0.0209: 100%|██████████| 134/134 [01:20<00:00,  1.66it/s]\n"
     ]
    },
    {
     "name": "stdout",
     "output_type": "stream",
     "text": [
      "validation multi-class accuracy = 0.9114\n",
      "7\n"
     ]
    },
    {
     "name": "stderr",
     "output_type": "stream",
     "text": [
      "epoch 7 loss: 0.1154: 100%|██████████| 1338/1338 [19:04<00:00,  1.17it/s]\n",
      "epoch 7 loss: 0.0202: 100%|██████████| 134/134 [01:15<00:00,  1.78it/s]\n"
     ]
    },
    {
     "name": "stdout",
     "output_type": "stream",
     "text": [
      "validation multi-class accuracy = 0.9150\n",
      "8\n"
     ]
    },
    {
     "name": "stderr",
     "output_type": "stream",
     "text": [
      "epoch 8 loss: 0.1174: 100%|██████████| 1338/1338 [19:07<00:00,  1.17it/s]\n",
      "epoch 8 loss: 0.0187: 100%|██████████| 134/134 [01:20<00:00,  1.67it/s]\n"
     ]
    },
    {
     "name": "stdout",
     "output_type": "stream",
     "text": [
      "validation multi-class accuracy = 0.9194\n",
      "9\n"
     ]
    },
    {
     "name": "stderr",
     "output_type": "stream",
     "text": [
      "epoch 9 loss: 0.1042: 100%|██████████| 1338/1338 [19:31<00:00,  1.14it/s]\n",
      "epoch 9 loss: 0.0179: 100%|██████████| 134/134 [01:27<00:00,  1.52it/s]\n"
     ]
    },
    {
     "name": "stdout",
     "output_type": "stream",
     "text": [
      "validation multi-class accuracy = 0.9187\n"
     ]
    }
   ],
   "source": [
    "if __name__ == '__main__':\n",
    "     # for training only, need nightly build pytorch\n",
    "    seed_everything(CFG['seed'])\n",
    "    # K则，并分层抽样\n",
    "    folds = StratifiedKFold(n_splits=CFG['fold_num']).split(np.arange(train.shape[0]),train.label.values)\n",
    "    device = torch.device(CFG['device'])\n",
    "    model = LeafClassifier(CFG['model_arch'], train.label.nunique(), pretrained=True).to(device)\n",
    "    optimizer = torch.optim.Adam(model.parameters(), lr=CFG['lr'], weight_decay=CFG['weight_decay'])\n",
    "#     loss_tr = nn.CrossEntropyLoss().to(device) #MyCrossEntropyLoss().to(device)\n",
    "#     loss_fn = nn.CrossEntropyLoss().to(device)\n",
    "    loss_tr = FocalLoss().to(device); \n",
    "    loss_fn = FocalLoss().to(device)\n",
    "    for fold,(trn_idx,val_idx) in enumerate(folds):\n",
    "        # we'll train flod 0 first\n",
    "        if fold>0:\n",
    "            break\n",
    "        print('Inference fold {} started'.format(fold))\n",
    "        train_loader, val_loader = prepare_dataloader(train, trn_idx, val_idx, data_root='../input/cassava-leaf-disease-classification/train_images/')\n",
    "        \n",
    "        scaler = GradScaler()  \n",
    "        scheduler = torch.optim.lr_scheduler.CosineAnnealingWarmRestarts(optimizer, T_0=CFG['T_0'], T_mult=1, eta_min=CFG['min_lr'], last_epoch=-1)\n",
    "        best_accuracy = 0\n",
    "        best_epoch = 0\n",
    "        \n",
    "        for epoch in range(CFG['epochs']):\n",
    "            print(epoch)\n",
    "            train_one_epoch(epoch, model, loss_tr, optimizer, train_loader, device,scheduler=scheduler, schd_batch_update=False)\n",
    "\n",
    "            with torch.no_grad():\n",
    "                epoch_accuracy = valid_one_epoch(epoch, model, loss_fn, val_loader, device)\n",
    "            \n",
    "#             if epoch_accuracy > best_accuracy:\n",
    "#                 torch.save(model.state_dict(),'{}_fold_{}_{}'.format(CFG['model_arch'], fold, epoch))\n",
    "#                 best_accuracy = epoch_accuracy\n",
    "#                 best_epoch = epoch\n",
    "#                 print('The model is saved!')\n",
    "            torch.save(model.state_dict(),'{}_fold_{}_{}'.format(CFG['model_arch'], fold, epoch))\n",
    "            \n",
    "        #torch.save(model.cnn_model.state_dict(),'{}/cnn_model_fold_{}_{}'.format(CFG['model_path'], fold, CFG['tag']))\n",
    "        del model, optimizer, train_loader, val_loader\n",
    "        torch.cuda.empty_cache()"
   ]
  },
  {
   "cell_type": "code",
   "execution_count": null,
   "metadata": {
    "papermill": {
     "duration": 6.265343,
     "end_time": "2021-02-17T07:29:53.567002",
     "exception": false,
     "start_time": "2021-02-17T07:29:47.301659",
     "status": "completed"
    },
    "tags": []
   },
   "outputs": [],
   "source": []
  }
 ],
 "metadata": {
  "kernelspec": {
   "display_name": "Python 3",
   "language": "python",
   "name": "python3"
  },
  "language_info": {
   "codemirror_mode": {
    "name": "ipython",
    "version": 3
   },
   "file_extension": ".py",
   "mimetype": "text/x-python",
   "name": "python",
   "nbconvert_exporter": "python",
   "pygments_lexer": "ipython3",
   "version": "3.7.9"
  },
  "papermill": {
   "default_parameters": {},
   "duration": 12491.296555,
   "end_time": "2021-02-17T07:30:02.210986",
   "environment_variables": {},
   "exception": null,
   "input_path": "__notebook__.ipynb",
   "output_path": "__notebook__.ipynb",
   "parameters": {},
   "start_time": "2021-02-17T04:01:50.914431",
   "version": "2.2.2"
  }
 },
 "nbformat": 4,
 "nbformat_minor": 4
}
